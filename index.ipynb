{
 "cells": [
  {
   "cell_type": "markdown",
   "metadata": {},
   "source": [
    "# **Project Title** :\n",
    "\n",
    "# 📉 Predicting Customer Churn for Subscription-Based Businesses\n",
    "\n",
    "##  Project Overview\n",
    "\n",
    "In today's competitive digital economy, subscription-based businesses face a major challenge: **customer churn**. Companies lose millions in revenue due to churn, often without understanding the root causes. This project aims to tackle that challenge by analyzing customer behavior patterns, engagement rates, and transaction data to **predict churn risk** and provide actionable insights.\n",
    "\n",
    "## Problem Statement\n",
    "\n",
    "> **\"Businesses lose millions due to customer churn, but most don't know why people leave.\"**\n",
    "\n",
    "The inability to detect early churn signals limits a company's capacity to respond proactively. Understanding *why* customers churn is just as critical as *knowing* who will churn.\n",
    "\n",
    "---\n",
    "\n",
    "## Project Solution\n",
    "\n",
    "This project uses a combination of **exploratory data analysis (EDA)**, **feature engineering**, and **data visualization** to uncover trends that lead to customer churn. I also leverage predictive modeling techniques to identify at-risk customers before they leave.\n",
    "\n",
    "## **Business Objectives**\n",
    "\n",
    "\n",
    "1. **Understand churn behavior** by identifying customer usage patterns and common churn traits.\n",
    "2. **Determine key factors** that influence customer churn.\n",
    "3. **Quantify the business impact** of churn (e.g., revenue loss, customer lifetime value).\n",
    "4. **Predict churn risk** using machine learning.\n",
    "5. **Communicate findings** through storytelling using Tableau dashboards.\n",
    "6. **Recommend strategies** for churn mitigation and customer retention.\n",
    "\n",
    "\n",
    "## Dataset Understanding\n",
    "\n",
    "- **Source**: Kaggle  \n",
    "  [`Predictive Analytics for Customer Churn: Dataset`](https://www.kaggle.com/datasets/safrin03/predictive-analytics-for-customer-churn-dataset)\n",
    "\n",
    "  Data is contained under folder **data** which contains three files.\n",
    "\n",
    "  1. **data_description.csv** - shows more information about dataset\n",
    "  2. **train.csv** - contains all data in csv format for train\n",
    "  3. **test.csv** - used for testing the model after training\n",
    "\n",
    "- **Key Columns**:\n",
    "  - `CustomerID`: Unique customer identifier  \n",
    "  - `SubscriptionType`: Basic, Premium, or Deluxe  \n",
    "  - `PaymentMethod`, `PaperlessBilling`  \n",
    "  - `ViewingHoursPerWeek`, `AccountAge`, `TotalCharges`, `MonthlyCharges`  \n",
    "  - `SupportTicketsPerMonth`, `UserRating`, `WatchlistSize`, etc.  \n"
   ]
  },
  {
   "cell_type": "markdown",
   "metadata": {},
   "source": [
    "In cell bellow I import all Libraries with there alias"
   ]
  },
  {
   "cell_type": "code",
   "execution_count": 1,
   "metadata": {},
   "outputs": [],
   "source": [
    "# import\n",
    "\n",
    "import pandas as pd\n",
    "import numpy as np\n",
    "import matplotlib.pyplot as plt\n",
    "import seaborn as sns"
   ]
  },
  {
   "cell_type": "markdown",
   "metadata": {},
   "source": [
    "Cell below load data using pandas for data preparation and cleaning"
   ]
  },
  {
   "cell_type": "code",
   "execution_count": 34,
   "metadata": {},
   "outputs": [
    {
     "data": {
      "application/vnd.microsoft.datawrangler.viewer.v0+json": {
       "columns": [
        {
         "name": "index",
         "rawType": "int64",
         "type": "integer"
        },
        {
         "name": "AccountAge",
         "rawType": "int64",
         "type": "integer"
        },
        {
         "name": "MonthlyCharges",
         "rawType": "float64",
         "type": "float"
        },
        {
         "name": "TotalCharges",
         "rawType": "float64",
         "type": "float"
        },
        {
         "name": "SubscriptionType",
         "rawType": "object",
         "type": "string"
        },
        {
         "name": "PaymentMethod",
         "rawType": "object",
         "type": "string"
        },
        {
         "name": "PaperlessBilling",
         "rawType": "object",
         "type": "string"
        },
        {
         "name": "ContentType",
         "rawType": "object",
         "type": "string"
        },
        {
         "name": "MultiDeviceAccess",
         "rawType": "object",
         "type": "string"
        },
        {
         "name": "DeviceRegistered",
         "rawType": "object",
         "type": "string"
        },
        {
         "name": "ViewingHoursPerWeek",
         "rawType": "float64",
         "type": "float"
        },
        {
         "name": "AverageViewingDuration",
         "rawType": "float64",
         "type": "float"
        },
        {
         "name": "ContentDownloadsPerMonth",
         "rawType": "int64",
         "type": "integer"
        },
        {
         "name": "GenrePreference",
         "rawType": "object",
         "type": "string"
        },
        {
         "name": "UserRating",
         "rawType": "float64",
         "type": "float"
        },
        {
         "name": "SupportTicketsPerMonth",
         "rawType": "int64",
         "type": "integer"
        },
        {
         "name": "Gender",
         "rawType": "object",
         "type": "string"
        },
        {
         "name": "WatchlistSize",
         "rawType": "int64",
         "type": "integer"
        },
        {
         "name": "ParentalControl",
         "rawType": "object",
         "type": "string"
        },
        {
         "name": "SubtitlesEnabled",
         "rawType": "object",
         "type": "string"
        },
        {
         "name": "CustomerID",
         "rawType": "object",
         "type": "string"
        },
        {
         "name": "Churn",
         "rawType": "int64",
         "type": "integer"
        }
       ],
       "conversionMethod": "pd.DataFrame",
       "ref": "c852d522-2dcc-4a4e-800c-c4b41d7b8a12",
       "rows": [
        [
         "0",
         "20",
         "11.055215098286784",
         "221.1043019657357",
         "Premium",
         "Mailed check",
         "No",
         "Both",
         "No",
         "Mobile",
         "36.75810391025656",
         "63.53137733399087",
         "10",
         "Sci-Fi",
         "2.176497514538461",
         "4",
         "Male",
         "3",
         "No",
         "No",
         "CB6SXPNVZA",
         "0"
        ],
        [
         "1",
         "57",
         "5.1752084605118185",
         "294.9868822491737",
         "Basic",
         "Credit card",
         "Yes",
         "Movies",
         "No",
         "Tablet",
         "32.450567831131046",
         "25.725594639013025",
         "18",
         "Action",
         "3.478632294057515",
         "8",
         "Male",
         "23",
         "No",
         "Yes",
         "S7R2G87O09",
         "0"
        ],
        [
         "2",
         "73",
         "12.106656871383258",
         "883.7859516109778",
         "Basic",
         "Mailed check",
         "Yes",
         "Movies",
         "No",
         "Computer",
         "7.3951601087942",
         "57.36406085422372",
         "23",
         "Fantasy",
         "4.23882362326149",
         "6",
         "Male",
         "1",
         "Yes",
         "Yes",
         "EASDC20BDT",
         "0"
        ],
        [
         "3",
         "32",
         "7.263742940677236",
         "232.4397741016716",
         "Basic",
         "Electronic check",
         "No",
         "TV Shows",
         "No",
         "Tablet",
         "27.96038869388153",
         "131.5375073033797",
         "30",
         "Drama",
         "4.276012901811724",
         "2",
         "Male",
         "24",
         "Yes",
         "Yes",
         "NPF69NT69N",
         "0"
        ],
        [
         "4",
         "57",
         "16.953077584672634",
         "966.32542232634",
         "Premium",
         "Electronic check",
         "Yes",
         "TV Shows",
         "No",
         "TV",
         "20.083397365536275",
         "45.35665300228703",
         "20",
         "Comedy",
         "3.616170325945041",
         "4",
         "Female",
         "0",
         "No",
         "No",
         "4LGYPK7VOL",
         "0"
        ],
        [
         "5",
         "113",
         "7.29574408203813",
         "824.4190812703087",
         "Premium",
         "Mailed check",
         "Yes",
         "Both",
         "No",
         "Mobile",
         "21.678290165014136",
         "97.09574606632208",
         "35",
         "Comedy",
         "3.7211339073349383",
         "8",
         "Female",
         "2",
         "Yes",
         "Yes",
         "JY5HS0GWHW",
         "0"
        ],
        [
         "6",
         "38",
         "12.340674706065464",
         "468.9456388304876",
         "Premium",
         "Bank transfer",
         "No",
         "Both",
         "No",
         "Computer",
         "36.51276087932416",
         "81.78299272749686",
         "28",
         "Action",
         "4.090868431680233",
         "9",
         "Female",
         "20",
         "No",
         "Yes",
         "79XSO6P5O3",
         "0"
        ],
        [
         "7",
         "25",
         "7.247550128985998",
         "181.18875322465",
         "Standard",
         "Electronic check",
         "Yes",
         "TV Shows",
         "No",
         "TV",
         "16.355816325840962",
         "154.52168212679436",
         "10",
         "Fantasy",
         "3.410221061849868",
         "2",
         "Female",
         "22",
         "No",
         "No",
         "2LDC9AQ3C5",
         "0"
        ],
        [
         "8",
         "26",
         "19.803232710190944",
         "514.8840504649645",
         "Standard",
         "Bank transfer",
         "No",
         "Movies",
         "No",
         "Tablet",
         "8.202929077625196",
         "94.37521106299708",
         "28",
         "Fantasy",
         "2.679986484363853",
         "0",
         "Male",
         "5",
         "Yes",
         "Yes",
         "74DURHL3Y8",
         "1"
        ],
        [
         "9",
         "14",
         "18.842934261148443",
         "263.8010796560782",
         "Standard",
         "Bank transfer",
         "No",
         "Movies",
         "No",
         "Computer",
         "38.56069422734088",
         "122.01289023072172",
         "0",
         "Comedy",
         "2.9934406191616114",
         "0",
         "Male",
         "18",
         "No",
         "No",
         "CY8S2R3A1T",
         "0"
        ]
       ],
       "shape": {
        "columns": 21,
        "rows": 10
       }
      },
      "text/html": [
       "<div>\n",
       "<style scoped>\n",
       "    .dataframe tbody tr th:only-of-type {\n",
       "        vertical-align: middle;\n",
       "    }\n",
       "\n",
       "    .dataframe tbody tr th {\n",
       "        vertical-align: top;\n",
       "    }\n",
       "\n",
       "    .dataframe thead th {\n",
       "        text-align: right;\n",
       "    }\n",
       "</style>\n",
       "<table border=\"1\" class=\"dataframe\">\n",
       "  <thead>\n",
       "    <tr style=\"text-align: right;\">\n",
       "      <th></th>\n",
       "      <th>AccountAge</th>\n",
       "      <th>MonthlyCharges</th>\n",
       "      <th>TotalCharges</th>\n",
       "      <th>SubscriptionType</th>\n",
       "      <th>PaymentMethod</th>\n",
       "      <th>PaperlessBilling</th>\n",
       "      <th>ContentType</th>\n",
       "      <th>MultiDeviceAccess</th>\n",
       "      <th>DeviceRegistered</th>\n",
       "      <th>ViewingHoursPerWeek</th>\n",
       "      <th>...</th>\n",
       "      <th>ContentDownloadsPerMonth</th>\n",
       "      <th>GenrePreference</th>\n",
       "      <th>UserRating</th>\n",
       "      <th>SupportTicketsPerMonth</th>\n",
       "      <th>Gender</th>\n",
       "      <th>WatchlistSize</th>\n",
       "      <th>ParentalControl</th>\n",
       "      <th>SubtitlesEnabled</th>\n",
       "      <th>CustomerID</th>\n",
       "      <th>Churn</th>\n",
       "    </tr>\n",
       "  </thead>\n",
       "  <tbody>\n",
       "    <tr>\n",
       "      <th>0</th>\n",
       "      <td>20</td>\n",
       "      <td>11.055215</td>\n",
       "      <td>221.104302</td>\n",
       "      <td>Premium</td>\n",
       "      <td>Mailed check</td>\n",
       "      <td>No</td>\n",
       "      <td>Both</td>\n",
       "      <td>No</td>\n",
       "      <td>Mobile</td>\n",
       "      <td>36.758104</td>\n",
       "      <td>...</td>\n",
       "      <td>10</td>\n",
       "      <td>Sci-Fi</td>\n",
       "      <td>2.176498</td>\n",
       "      <td>4</td>\n",
       "      <td>Male</td>\n",
       "      <td>3</td>\n",
       "      <td>No</td>\n",
       "      <td>No</td>\n",
       "      <td>CB6SXPNVZA</td>\n",
       "      <td>0</td>\n",
       "    </tr>\n",
       "    <tr>\n",
       "      <th>1</th>\n",
       "      <td>57</td>\n",
       "      <td>5.175208</td>\n",
       "      <td>294.986882</td>\n",
       "      <td>Basic</td>\n",
       "      <td>Credit card</td>\n",
       "      <td>Yes</td>\n",
       "      <td>Movies</td>\n",
       "      <td>No</td>\n",
       "      <td>Tablet</td>\n",
       "      <td>32.450568</td>\n",
       "      <td>...</td>\n",
       "      <td>18</td>\n",
       "      <td>Action</td>\n",
       "      <td>3.478632</td>\n",
       "      <td>8</td>\n",
       "      <td>Male</td>\n",
       "      <td>23</td>\n",
       "      <td>No</td>\n",
       "      <td>Yes</td>\n",
       "      <td>S7R2G87O09</td>\n",
       "      <td>0</td>\n",
       "    </tr>\n",
       "    <tr>\n",
       "      <th>2</th>\n",
       "      <td>73</td>\n",
       "      <td>12.106657</td>\n",
       "      <td>883.785952</td>\n",
       "      <td>Basic</td>\n",
       "      <td>Mailed check</td>\n",
       "      <td>Yes</td>\n",
       "      <td>Movies</td>\n",
       "      <td>No</td>\n",
       "      <td>Computer</td>\n",
       "      <td>7.395160</td>\n",
       "      <td>...</td>\n",
       "      <td>23</td>\n",
       "      <td>Fantasy</td>\n",
       "      <td>4.238824</td>\n",
       "      <td>6</td>\n",
       "      <td>Male</td>\n",
       "      <td>1</td>\n",
       "      <td>Yes</td>\n",
       "      <td>Yes</td>\n",
       "      <td>EASDC20BDT</td>\n",
       "      <td>0</td>\n",
       "    </tr>\n",
       "    <tr>\n",
       "      <th>3</th>\n",
       "      <td>32</td>\n",
       "      <td>7.263743</td>\n",
       "      <td>232.439774</td>\n",
       "      <td>Basic</td>\n",
       "      <td>Electronic check</td>\n",
       "      <td>No</td>\n",
       "      <td>TV Shows</td>\n",
       "      <td>No</td>\n",
       "      <td>Tablet</td>\n",
       "      <td>27.960389</td>\n",
       "      <td>...</td>\n",
       "      <td>30</td>\n",
       "      <td>Drama</td>\n",
       "      <td>4.276013</td>\n",
       "      <td>2</td>\n",
       "      <td>Male</td>\n",
       "      <td>24</td>\n",
       "      <td>Yes</td>\n",
       "      <td>Yes</td>\n",
       "      <td>NPF69NT69N</td>\n",
       "      <td>0</td>\n",
       "    </tr>\n",
       "    <tr>\n",
       "      <th>4</th>\n",
       "      <td>57</td>\n",
       "      <td>16.953078</td>\n",
       "      <td>966.325422</td>\n",
       "      <td>Premium</td>\n",
       "      <td>Electronic check</td>\n",
       "      <td>Yes</td>\n",
       "      <td>TV Shows</td>\n",
       "      <td>No</td>\n",
       "      <td>TV</td>\n",
       "      <td>20.083397</td>\n",
       "      <td>...</td>\n",
       "      <td>20</td>\n",
       "      <td>Comedy</td>\n",
       "      <td>3.616170</td>\n",
       "      <td>4</td>\n",
       "      <td>Female</td>\n",
       "      <td>0</td>\n",
       "      <td>No</td>\n",
       "      <td>No</td>\n",
       "      <td>4LGYPK7VOL</td>\n",
       "      <td>0</td>\n",
       "    </tr>\n",
       "    <tr>\n",
       "      <th>5</th>\n",
       "      <td>113</td>\n",
       "      <td>7.295744</td>\n",
       "      <td>824.419081</td>\n",
       "      <td>Premium</td>\n",
       "      <td>Mailed check</td>\n",
       "      <td>Yes</td>\n",
       "      <td>Both</td>\n",
       "      <td>No</td>\n",
       "      <td>Mobile</td>\n",
       "      <td>21.678290</td>\n",
       "      <td>...</td>\n",
       "      <td>35</td>\n",
       "      <td>Comedy</td>\n",
       "      <td>3.721134</td>\n",
       "      <td>8</td>\n",
       "      <td>Female</td>\n",
       "      <td>2</td>\n",
       "      <td>Yes</td>\n",
       "      <td>Yes</td>\n",
       "      <td>JY5HS0GWHW</td>\n",
       "      <td>0</td>\n",
       "    </tr>\n",
       "    <tr>\n",
       "      <th>6</th>\n",
       "      <td>38</td>\n",
       "      <td>12.340675</td>\n",
       "      <td>468.945639</td>\n",
       "      <td>Premium</td>\n",
       "      <td>Bank transfer</td>\n",
       "      <td>No</td>\n",
       "      <td>Both</td>\n",
       "      <td>No</td>\n",
       "      <td>Computer</td>\n",
       "      <td>36.512761</td>\n",
       "      <td>...</td>\n",
       "      <td>28</td>\n",
       "      <td>Action</td>\n",
       "      <td>4.090868</td>\n",
       "      <td>9</td>\n",
       "      <td>Female</td>\n",
       "      <td>20</td>\n",
       "      <td>No</td>\n",
       "      <td>Yes</td>\n",
       "      <td>79XSO6P5O3</td>\n",
       "      <td>0</td>\n",
       "    </tr>\n",
       "    <tr>\n",
       "      <th>7</th>\n",
       "      <td>25</td>\n",
       "      <td>7.247550</td>\n",
       "      <td>181.188753</td>\n",
       "      <td>Standard</td>\n",
       "      <td>Electronic check</td>\n",
       "      <td>Yes</td>\n",
       "      <td>TV Shows</td>\n",
       "      <td>No</td>\n",
       "      <td>TV</td>\n",
       "      <td>16.355816</td>\n",
       "      <td>...</td>\n",
       "      <td>10</td>\n",
       "      <td>Fantasy</td>\n",
       "      <td>3.410221</td>\n",
       "      <td>2</td>\n",
       "      <td>Female</td>\n",
       "      <td>22</td>\n",
       "      <td>No</td>\n",
       "      <td>No</td>\n",
       "      <td>2LDC9AQ3C5</td>\n",
       "      <td>0</td>\n",
       "    </tr>\n",
       "    <tr>\n",
       "      <th>8</th>\n",
       "      <td>26</td>\n",
       "      <td>19.803233</td>\n",
       "      <td>514.884050</td>\n",
       "      <td>Standard</td>\n",
       "      <td>Bank transfer</td>\n",
       "      <td>No</td>\n",
       "      <td>Movies</td>\n",
       "      <td>No</td>\n",
       "      <td>Tablet</td>\n",
       "      <td>8.202929</td>\n",
       "      <td>...</td>\n",
       "      <td>28</td>\n",
       "      <td>Fantasy</td>\n",
       "      <td>2.679986</td>\n",
       "      <td>0</td>\n",
       "      <td>Male</td>\n",
       "      <td>5</td>\n",
       "      <td>Yes</td>\n",
       "      <td>Yes</td>\n",
       "      <td>74DURHL3Y8</td>\n",
       "      <td>1</td>\n",
       "    </tr>\n",
       "    <tr>\n",
       "      <th>9</th>\n",
       "      <td>14</td>\n",
       "      <td>18.842934</td>\n",
       "      <td>263.801080</td>\n",
       "      <td>Standard</td>\n",
       "      <td>Bank transfer</td>\n",
       "      <td>No</td>\n",
       "      <td>Movies</td>\n",
       "      <td>No</td>\n",
       "      <td>Computer</td>\n",
       "      <td>38.560694</td>\n",
       "      <td>...</td>\n",
       "      <td>0</td>\n",
       "      <td>Comedy</td>\n",
       "      <td>2.993441</td>\n",
       "      <td>0</td>\n",
       "      <td>Male</td>\n",
       "      <td>18</td>\n",
       "      <td>No</td>\n",
       "      <td>No</td>\n",
       "      <td>CY8S2R3A1T</td>\n",
       "      <td>0</td>\n",
       "    </tr>\n",
       "  </tbody>\n",
       "</table>\n",
       "<p>10 rows × 21 columns</p>\n",
       "</div>"
      ],
      "text/plain": [
       "   AccountAge  MonthlyCharges  TotalCharges SubscriptionType  \\\n",
       "0          20       11.055215    221.104302          Premium   \n",
       "1          57        5.175208    294.986882            Basic   \n",
       "2          73       12.106657    883.785952            Basic   \n",
       "3          32        7.263743    232.439774            Basic   \n",
       "4          57       16.953078    966.325422          Premium   \n",
       "5         113        7.295744    824.419081          Premium   \n",
       "6          38       12.340675    468.945639          Premium   \n",
       "7          25        7.247550    181.188753         Standard   \n",
       "8          26       19.803233    514.884050         Standard   \n",
       "9          14       18.842934    263.801080         Standard   \n",
       "\n",
       "      PaymentMethod PaperlessBilling ContentType MultiDeviceAccess  \\\n",
       "0      Mailed check               No        Both                No   \n",
       "1       Credit card              Yes      Movies                No   \n",
       "2      Mailed check              Yes      Movies                No   \n",
       "3  Electronic check               No    TV Shows                No   \n",
       "4  Electronic check              Yes    TV Shows                No   \n",
       "5      Mailed check              Yes        Both                No   \n",
       "6     Bank transfer               No        Both                No   \n",
       "7  Electronic check              Yes    TV Shows                No   \n",
       "8     Bank transfer               No      Movies                No   \n",
       "9     Bank transfer               No      Movies                No   \n",
       "\n",
       "  DeviceRegistered  ViewingHoursPerWeek  ...  ContentDownloadsPerMonth  \\\n",
       "0           Mobile            36.758104  ...                        10   \n",
       "1           Tablet            32.450568  ...                        18   \n",
       "2         Computer             7.395160  ...                        23   \n",
       "3           Tablet            27.960389  ...                        30   \n",
       "4               TV            20.083397  ...                        20   \n",
       "5           Mobile            21.678290  ...                        35   \n",
       "6         Computer            36.512761  ...                        28   \n",
       "7               TV            16.355816  ...                        10   \n",
       "8           Tablet             8.202929  ...                        28   \n",
       "9         Computer            38.560694  ...                         0   \n",
       "\n",
       "   GenrePreference UserRating  SupportTicketsPerMonth  Gender WatchlistSize  \\\n",
       "0           Sci-Fi   2.176498                       4    Male             3   \n",
       "1           Action   3.478632                       8    Male            23   \n",
       "2          Fantasy   4.238824                       6    Male             1   \n",
       "3            Drama   4.276013                       2    Male            24   \n",
       "4           Comedy   3.616170                       4  Female             0   \n",
       "5           Comedy   3.721134                       8  Female             2   \n",
       "6           Action   4.090868                       9  Female            20   \n",
       "7          Fantasy   3.410221                       2  Female            22   \n",
       "8          Fantasy   2.679986                       0    Male             5   \n",
       "9           Comedy   2.993441                       0    Male            18   \n",
       "\n",
       "   ParentalControl SubtitlesEnabled  CustomerID Churn  \n",
       "0               No               No  CB6SXPNVZA     0  \n",
       "1               No              Yes  S7R2G87O09     0  \n",
       "2              Yes              Yes  EASDC20BDT     0  \n",
       "3              Yes              Yes  NPF69NT69N     0  \n",
       "4               No               No  4LGYPK7VOL     0  \n",
       "5              Yes              Yes  JY5HS0GWHW     0  \n",
       "6               No              Yes  79XSO6P5O3     0  \n",
       "7               No               No  2LDC9AQ3C5     0  \n",
       "8              Yes              Yes  74DURHL3Y8     1  \n",
       "9               No               No  CY8S2R3A1T     0  \n",
       "\n",
       "[10 rows x 21 columns]"
      ]
     },
     "execution_count": 34,
     "metadata": {},
     "output_type": "execute_result"
    }
   ],
   "source": [
    "# load data\n",
    "\n",
    "churn_df = pd.read_csv('data/train.csv')\n",
    "churn_df.head(10)"
   ]
  },
  {
   "cell_type": "markdown",
   "metadata": {},
   "source": [
    "In cell above loads data and stores it under variable `churn_df` and output first `5` records of data using `.head()` method\n",
    "\n",
    "\n",
    "Cell below I perform metadata summary  using **.info() method** to understand data interms of `data types`, `no of records`, `no of attributes` and `missing values`"
   ]
  },
  {
   "cell_type": "code",
   "execution_count": 3,
   "metadata": {},
   "outputs": [
    {
     "name": "stdout",
     "output_type": "stream",
     "text": [
      "<class 'pandas.core.frame.DataFrame'>\n",
      "RangeIndex: 243787 entries, 0 to 243786\n",
      "Data columns (total 21 columns):\n",
      " #   Column                    Non-Null Count   Dtype  \n",
      "---  ------                    --------------   -----  \n",
      " 0   AccountAge                243787 non-null  int64  \n",
      " 1   MonthlyCharges            243787 non-null  float64\n",
      " 2   TotalCharges              243787 non-null  float64\n",
      " 3   SubscriptionType          243787 non-null  object \n",
      " 4   PaymentMethod             243787 non-null  object \n",
      " 5   PaperlessBilling          243787 non-null  object \n",
      " 6   ContentType               243787 non-null  object \n",
      " 7   MultiDeviceAccess         243787 non-null  object \n",
      " 8   DeviceRegistered          243787 non-null  object \n",
      " 9   ViewingHoursPerWeek       243787 non-null  float64\n",
      " 10  AverageViewingDuration    243787 non-null  float64\n",
      " 11  ContentDownloadsPerMonth  243787 non-null  int64  \n",
      " 12  GenrePreference           243787 non-null  object \n",
      " 13  UserRating                243787 non-null  float64\n",
      " 14  SupportTicketsPerMonth    243787 non-null  int64  \n",
      " 15  Gender                    243787 non-null  object \n",
      " 16  WatchlistSize             243787 non-null  int64  \n",
      " 17  ParentalControl           243787 non-null  object \n",
      " 18  SubtitlesEnabled          243787 non-null  object \n",
      " 19  CustomerID                243787 non-null  object \n",
      " 20  Churn                     243787 non-null  int64  \n",
      "dtypes: float64(5), int64(5), object(11)\n",
      "memory usage: 39.1+ MB\n"
     ]
    }
   ],
   "source": [
    "# perform metadata summary\n",
    "\n",
    "churn_df.info()  # Reveals missing data and dtype mismatches\n"
   ]
  },
  {
   "cell_type": "code",
   "execution_count": 4,
   "metadata": {},
   "outputs": [
    {
     "data": {
      "text/plain": [
       "'The cell above shows that `churn_df` as total number of 243787 entries and 21 attributes.\\n\\nchurn_df as `5 float64 dtypes`, `5 int64 dtypes` and `11 object dtypes`.\\n\\nThere are no missing values.'"
      ]
     },
     "execution_count": 4,
     "metadata": {},
     "output_type": "execute_result"
    }
   ],
   "source": [
    "\"\"\"The cell above shows that `churn_df` as total number of 243787 entries and 21 attributes.\n",
    "\n",
    "churn_df as `5 float64 dtypes`, `5 int64 dtypes` and `11 object dtypes`.\n",
    "\n",
    "There are no missing values.\"\"\""
   ]
  },
  {
   "cell_type": "markdown",
   "metadata": {},
   "source": [
    "Below I find stastical summary of float and integer field using `.describe() method`"
   ]
  },
  {
   "cell_type": "code",
   "execution_count": 5,
   "metadata": {},
   "outputs": [
    {
     "data": {
      "application/vnd.microsoft.datawrangler.viewer.v0+json": {
       "columns": [
        {
         "name": "index",
         "rawType": "object",
         "type": "string"
        },
        {
         "name": "AccountAge",
         "rawType": "float64",
         "type": "float"
        },
        {
         "name": "MonthlyCharges",
         "rawType": "float64",
         "type": "float"
        },
        {
         "name": "TotalCharges",
         "rawType": "float64",
         "type": "float"
        },
        {
         "name": "ViewingHoursPerWeek",
         "rawType": "float64",
         "type": "float"
        },
        {
         "name": "AverageViewingDuration",
         "rawType": "float64",
         "type": "float"
        },
        {
         "name": "ContentDownloadsPerMonth",
         "rawType": "float64",
         "type": "float"
        },
        {
         "name": "UserRating",
         "rawType": "float64",
         "type": "float"
        },
        {
         "name": "SupportTicketsPerMonth",
         "rawType": "float64",
         "type": "float"
        },
        {
         "name": "WatchlistSize",
         "rawType": "float64",
         "type": "float"
        },
        {
         "name": "Churn",
         "rawType": "float64",
         "type": "float"
        }
       ],
       "conversionMethod": "pd.DataFrame",
       "ref": "f9d83a46-02a8-4810-b49c-0826b0b08980",
       "rows": [
        [
         "count",
         "243787.0",
         "243787.0",
         "243787.0",
         "243787.0",
         "243787.0",
         "243787.0",
         "243787.0",
         "243787.0",
         "243787.0",
         "243787.0"
        ],
        [
         "mean",
         "60.083757542444836",
         "12.49069450621346",
         "750.7410172504389",
         "20.502179026203336",
         "92.2640611142523",
         "24.503513312850973",
         "3.002712749468779",
         "4.50418603124859",
         "12.01850795981738",
         "0.18123197709475894"
        ],
        [
         "std",
         "34.285143245616645",
         "4.327615425852652",
         "523.0732733967734",
         "11.243753391906434",
         "50.50524315557208",
         "14.421173722535832",
         "1.1552591326429682",
         "2.8725483534290563",
         "7.193034197742199",
         "0.3852110541640144"
        ],
        [
         "min",
         "1.0",
         "4.990061546582933",
         "4.991154354368685",
         "1.000065389097874",
         "5.0005474861951456",
         "0.0",
         "1.0000073778257992",
         "0.0",
         "0.0",
         "0.0"
        ],
        [
         "25%",
         "30.0",
         "8.73854317885632",
         "329.14702650414574",
         "10.763952729232127",
         "48.38239455102632",
         "12.0",
         "2.0008529979299308",
         "2.0",
         "6.0",
         "0.0"
        ],
        [
         "50%",
         "60.0",
         "12.49555523401009",
         "649.8784870885065",
         "20.52311569371911",
         "92.24999245593844",
         "24.0",
         "3.0022614025261234",
         "4.0",
         "12.0",
         "0.0"
        ],
        [
         "75%",
         "90.0",
         "16.238160133914885",
         "1089.3173616284084",
         "30.219396080376693",
         "135.90804777363763",
         "37.0",
         "4.002157254379677",
         "7.0",
         "18.0",
         "0.0"
        ],
        [
         "max",
         "119.0",
         "19.989956867323198",
         "2378.723844106135",
         "39.99972313614872",
         "179.99927511771548",
         "49.0",
         "4.999989412151973",
         "9.0",
         "24.0",
         "1.0"
        ]
       ],
       "shape": {
        "columns": 10,
        "rows": 8
       }
      },
      "text/html": [
       "<div>\n",
       "<style scoped>\n",
       "    .dataframe tbody tr th:only-of-type {\n",
       "        vertical-align: middle;\n",
       "    }\n",
       "\n",
       "    .dataframe tbody tr th {\n",
       "        vertical-align: top;\n",
       "    }\n",
       "\n",
       "    .dataframe thead th {\n",
       "        text-align: right;\n",
       "    }\n",
       "</style>\n",
       "<table border=\"1\" class=\"dataframe\">\n",
       "  <thead>\n",
       "    <tr style=\"text-align: right;\">\n",
       "      <th></th>\n",
       "      <th>AccountAge</th>\n",
       "      <th>MonthlyCharges</th>\n",
       "      <th>TotalCharges</th>\n",
       "      <th>ViewingHoursPerWeek</th>\n",
       "      <th>AverageViewingDuration</th>\n",
       "      <th>ContentDownloadsPerMonth</th>\n",
       "      <th>UserRating</th>\n",
       "      <th>SupportTicketsPerMonth</th>\n",
       "      <th>WatchlistSize</th>\n",
       "      <th>Churn</th>\n",
       "    </tr>\n",
       "  </thead>\n",
       "  <tbody>\n",
       "    <tr>\n",
       "      <th>count</th>\n",
       "      <td>243787.000000</td>\n",
       "      <td>243787.000000</td>\n",
       "      <td>243787.000000</td>\n",
       "      <td>243787.000000</td>\n",
       "      <td>243787.000000</td>\n",
       "      <td>243787.000000</td>\n",
       "      <td>243787.000000</td>\n",
       "      <td>243787.000000</td>\n",
       "      <td>243787.000000</td>\n",
       "      <td>243787.000000</td>\n",
       "    </tr>\n",
       "    <tr>\n",
       "      <th>mean</th>\n",
       "      <td>60.083758</td>\n",
       "      <td>12.490695</td>\n",
       "      <td>750.741017</td>\n",
       "      <td>20.502179</td>\n",
       "      <td>92.264061</td>\n",
       "      <td>24.503513</td>\n",
       "      <td>3.002713</td>\n",
       "      <td>4.504186</td>\n",
       "      <td>12.018508</td>\n",
       "      <td>0.181232</td>\n",
       "    </tr>\n",
       "    <tr>\n",
       "      <th>std</th>\n",
       "      <td>34.285143</td>\n",
       "      <td>4.327615</td>\n",
       "      <td>523.073273</td>\n",
       "      <td>11.243753</td>\n",
       "      <td>50.505243</td>\n",
       "      <td>14.421174</td>\n",
       "      <td>1.155259</td>\n",
       "      <td>2.872548</td>\n",
       "      <td>7.193034</td>\n",
       "      <td>0.385211</td>\n",
       "    </tr>\n",
       "    <tr>\n",
       "      <th>min</th>\n",
       "      <td>1.000000</td>\n",
       "      <td>4.990062</td>\n",
       "      <td>4.991154</td>\n",
       "      <td>1.000065</td>\n",
       "      <td>5.000547</td>\n",
       "      <td>0.000000</td>\n",
       "      <td>1.000007</td>\n",
       "      <td>0.000000</td>\n",
       "      <td>0.000000</td>\n",
       "      <td>0.000000</td>\n",
       "    </tr>\n",
       "    <tr>\n",
       "      <th>25%</th>\n",
       "      <td>30.000000</td>\n",
       "      <td>8.738543</td>\n",
       "      <td>329.147027</td>\n",
       "      <td>10.763953</td>\n",
       "      <td>48.382395</td>\n",
       "      <td>12.000000</td>\n",
       "      <td>2.000853</td>\n",
       "      <td>2.000000</td>\n",
       "      <td>6.000000</td>\n",
       "      <td>0.000000</td>\n",
       "    </tr>\n",
       "    <tr>\n",
       "      <th>50%</th>\n",
       "      <td>60.000000</td>\n",
       "      <td>12.495555</td>\n",
       "      <td>649.878487</td>\n",
       "      <td>20.523116</td>\n",
       "      <td>92.249992</td>\n",
       "      <td>24.000000</td>\n",
       "      <td>3.002261</td>\n",
       "      <td>4.000000</td>\n",
       "      <td>12.000000</td>\n",
       "      <td>0.000000</td>\n",
       "    </tr>\n",
       "    <tr>\n",
       "      <th>75%</th>\n",
       "      <td>90.000000</td>\n",
       "      <td>16.238160</td>\n",
       "      <td>1089.317362</td>\n",
       "      <td>30.219396</td>\n",
       "      <td>135.908048</td>\n",
       "      <td>37.000000</td>\n",
       "      <td>4.002157</td>\n",
       "      <td>7.000000</td>\n",
       "      <td>18.000000</td>\n",
       "      <td>0.000000</td>\n",
       "    </tr>\n",
       "    <tr>\n",
       "      <th>max</th>\n",
       "      <td>119.000000</td>\n",
       "      <td>19.989957</td>\n",
       "      <td>2378.723844</td>\n",
       "      <td>39.999723</td>\n",
       "      <td>179.999275</td>\n",
       "      <td>49.000000</td>\n",
       "      <td>4.999989</td>\n",
       "      <td>9.000000</td>\n",
       "      <td>24.000000</td>\n",
       "      <td>1.000000</td>\n",
       "    </tr>\n",
       "  </tbody>\n",
       "</table>\n",
       "</div>"
      ],
      "text/plain": [
       "          AccountAge  MonthlyCharges   TotalCharges  ViewingHoursPerWeek  \\\n",
       "count  243787.000000   243787.000000  243787.000000        243787.000000   \n",
       "mean       60.083758       12.490695     750.741017            20.502179   \n",
       "std        34.285143        4.327615     523.073273            11.243753   \n",
       "min         1.000000        4.990062       4.991154             1.000065   \n",
       "25%        30.000000        8.738543     329.147027            10.763953   \n",
       "50%        60.000000       12.495555     649.878487            20.523116   \n",
       "75%        90.000000       16.238160    1089.317362            30.219396   \n",
       "max       119.000000       19.989957    2378.723844            39.999723   \n",
       "\n",
       "       AverageViewingDuration  ContentDownloadsPerMonth     UserRating  \\\n",
       "count           243787.000000             243787.000000  243787.000000   \n",
       "mean                92.264061                 24.503513       3.002713   \n",
       "std                 50.505243                 14.421174       1.155259   \n",
       "min                  5.000547                  0.000000       1.000007   \n",
       "25%                 48.382395                 12.000000       2.000853   \n",
       "50%                 92.249992                 24.000000       3.002261   \n",
       "75%                135.908048                 37.000000       4.002157   \n",
       "max                179.999275                 49.000000       4.999989   \n",
       "\n",
       "       SupportTicketsPerMonth  WatchlistSize          Churn  \n",
       "count           243787.000000  243787.000000  243787.000000  \n",
       "mean                 4.504186      12.018508       0.181232  \n",
       "std                  2.872548       7.193034       0.385211  \n",
       "min                  0.000000       0.000000       0.000000  \n",
       "25%                  2.000000       6.000000       0.000000  \n",
       "50%                  4.000000      12.000000       0.000000  \n",
       "75%                  7.000000      18.000000       0.000000  \n",
       "max                  9.000000      24.000000       1.000000  "
      ]
     },
     "execution_count": 5,
     "metadata": {},
     "output_type": "execute_result"
    }
   ],
   "source": [
    "# statistics summary\n",
    "churn_df.describe()"
   ]
  },
  {
   "cell_type": "markdown",
   "metadata": {},
   "source": [
    "Cell above shows a quik summary of numeric number by showing `count, mean, std, min percitiles & max`.\n",
    "\n",
    "Below I check dataframe shape using **.shape() method**"
   ]
  },
  {
   "cell_type": "code",
   "execution_count": 6,
   "metadata": {},
   "outputs": [
    {
     "data": {
      "text/plain": [
       "(243787, 21)"
      ]
     },
     "execution_count": 6,
     "metadata": {},
     "output_type": "execute_result"
    }
   ],
   "source": [
    "# check shape of the dataset\n",
    "churn_df.shape"
   ]
  },
  {
   "cell_type": "markdown",
   "metadata": {},
   "source": [
    "Cell above shows that churn_df as `243787 rows` and `21 columns`."
   ]
  },
  {
   "cell_type": "markdown",
   "metadata": {},
   "source": [
    "### **Data Cleaning**\n",
    "\n",
    "In this section, I prepared the dataset for analysis and modeling by performing the following steps:\n",
    "\n",
    "* **Handled Missing Values**\n",
    "Identified and addressed null values using appropriate imputation strategies (mean, median, mode).\n",
    "\n",
    "* **Removed Duplicates**\n",
    "Checked for and removed any duplicate customer records to ensure data integrity.\n",
    "\n",
    "* **Corrected Data Types**\n",
    "Converted columns like TotalCharges to numeric types and ensured categorical fields were properly formatted.\n",
    "\n",
    "* **Handled Outliers**\n",
    "Detected and addressed extreme values in fields such as MonthlyCharges and SupportTicketsPerMonth.\n",
    "\n",
    "\n",
    "For efficient data cleaning I group churn_df in `numeric_df` and `categorical_df` which stores numeric and categorical in different dataframe for cleaning.\n",
    "\n",
    "In cell below I start with **numeric values** for cleaning and preparing for analysis\n"
   ]
  },
  {
   "cell_type": "code",
   "execution_count": 7,
   "metadata": {},
   "outputs": [
    {
     "data": {
      "text/plain": [
       "['AccountAge',\n",
       " 'MonthlyCharges',\n",
       " 'TotalCharges',\n",
       " 'ViewingHoursPerWeek',\n",
       " 'AverageViewingDuration',\n",
       " 'ContentDownloadsPerMonth',\n",
       " 'UserRating',\n",
       " 'SupportTicketsPerMonth',\n",
       " 'WatchlistSize',\n",
       " 'Churn']"
      ]
     },
     "execution_count": 7,
     "metadata": {},
     "output_type": "execute_result"
    }
   ],
   "source": [
    "# select numeric columns from the dataset\n",
    "\n",
    "numeric_df =churn_df.select_dtypes(include=[np.number]).columns.tolist()\n",
    "numeric_df"
   ]
  },
  {
   "cell_type": "markdown",
   "metadata": {},
   "source": [
    "The above cell I select all numeric columns in churn_df and store them under variable `numeric_df`"
   ]
  },
  {
   "cell_type": "code",
   "execution_count": 8,
   "metadata": {},
   "outputs": [
    {
     "data": {
      "text/plain": [
       "(243787, 10)"
      ]
     },
     "execution_count": 8,
     "metadata": {},
     "output_type": "execute_result"
    }
   ],
   "source": [
    "# check shape of numeric_df\n",
    "churn_df[numeric_df].shape"
   ]
  },
  {
   "cell_type": "markdown",
   "metadata": {},
   "source": [
    "The above cell shows shape of numeric_df which as `243787 rows` and `10 columns`\n",
    "\n",
    "In cell below I check for missing values in numeric_df using method like `.isna(), isnull, notna()`"
   ]
  },
  {
   "cell_type": "code",
   "execution_count": 9,
   "metadata": {},
   "outputs": [
    {
     "data": {
      "text/plain": [
       "AccountAge                  0.0\n",
       "MonthlyCharges              0.0\n",
       "TotalCharges                0.0\n",
       "ViewingHoursPerWeek         0.0\n",
       "AverageViewingDuration      0.0\n",
       "ContentDownloadsPerMonth    0.0\n",
       "UserRating                  0.0\n",
       "SupportTicketsPerMonth      0.0\n",
       "WatchlistSize               0.0\n",
       "Churn                       0.0\n",
       "dtype: float64"
      ]
     },
     "execution_count": 9,
     "metadata": {},
     "output_type": "execute_result"
    }
   ],
   "source": [
    "# check for missing values\n",
    "\n",
    "(churn_df[numeric_df].isna().sum() / len(churn_df[numeric_df]))* 100 # check for missing values in numeric_df in percentage"
   ]
  },
  {
   "cell_type": "markdown",
   "metadata": {},
   "source": [
    "The above cell shows there are no missing values in numeric_df\n",
    "\n",
    "\n",
    "In cell below checks for **Duplicates values** in numeric_df using `.duplicated()`"
   ]
  },
  {
   "cell_type": "code",
   "execution_count": 10,
   "metadata": {},
   "outputs": [
    {
     "data": {
      "text/plain": [
       "np.int64(0)"
      ]
     },
     "execution_count": 10,
     "metadata": {},
     "output_type": "execute_result"
    }
   ],
   "source": [
    "# check for duplicates in numeric_df\n",
    "\n",
    "churn_df[numeric_df].duplicated().sum() # check for duplicates in numeric_df"
   ]
  },
  {
   "cell_type": "markdown",
   "metadata": {},
   "source": [
    "Cell above shows there are no duplicates in numeric_df\n",
    "\n",
    "The cell below I check for **outliers in numeric_df** using `boxplot` to check for extreme values"
   ]
  },
  {
   "cell_type": "code",
   "execution_count": 11,
   "metadata": {},
   "outputs": [
    {
     "data": {
      "image/png": "[encoded data removed]",
      "text/plain": [
       "<Figure size 1000x500 with 1 Axes>"
      ]
     },
     "metadata": {},
     "output_type": "display_data"
    }
   ],
   "source": [
    "# check for outliers in numeric_df\n",
    "\n",
    "# boxplot for numeric_df\n",
    "fig, ax =plt.subplots(figsize=(10,5))\n",
    "sns.boxplot(churn_df[numeric_df], orient='v', palette='Set2')\n",
    "\n",
    "ax.set_title('Boxplot for numeric_df')\n",
    "ax.set_xlabel('numeric_df')\n",
    "ax.set_ylabel('Value')\n",
    "ax.tick_params(axis='x', rotation=90) # Rotate x-axis labels for better readability\n",
    "\n",
    "plt.show()\n",
    "\n",
    "\n"
   ]
  },
  {
   "cell_type": "markdown",
   "metadata": {},
   "source": [
    "Cell above show **column TotalCharges contains outliers** as there many dots above. Other columns are relatively clean does not have much outliers.\n",
    "\n",
    "To remove the outliers write a function called **remove_outliers_iqr** which take two argument **dataframe and column**"
   ]
  },
  {
   "cell_type": "code",
   "execution_count": 12,
   "metadata": {},
   "outputs": [],
   "source": [
    "# function to remove outliers\n",
    "\n",
    "def remove_outliers_iqr(df, column):\n",
    "    \"\"\"\n",
    "    Remove outliers from a DataFrame using the IQR method.\n",
    "    \n",
    "    Parameters:\n",
    "    df (pd.DataFrame): The DataFrame to process.\n",
    "    column (str): The column name to check for outliers.\n",
    "    \n",
    "    Returns:\n",
    "    pd.DataFrame: The DataFrame with outliers removed.\n",
    "    \"\"\"\n",
    "    Q1 = df[column].quantile(0.25)\n",
    "    Q3 = df[column].quantile(0.75)\n",
    "    IQR = Q3 - Q1\n",
    "    lower_bound = Q1 - 1.5 * IQR\n",
    "    upper_bound = Q3 + 1.5 * IQR\n",
    "    return df[(df[column] >= lower_bound) & (df[column] <= upper_bound)]\n",
    "\n",
    "# remove outliers from numeric_df['TotalCharges']\n",
    "\n",
    "churn_df = remove_outliers_iqr(churn_df, 'TotalCharges')"
   ]
  },
  {
   "cell_type": "code",
   "execution_count": 13,
   "metadata": {},
   "outputs": [
    {
     "data": {
      "image/png": "[encoded data removed]",
      "text/plain": [
       "<Figure size 1000x500 with 1 Axes>"
      ]
     },
     "metadata": {},
     "output_type": "display_data"
    }
   ],
   "source": [
    "# check for outliers in numeric_df after removing outliers\n",
    "fig, ax =plt.subplots(figsize=(10,5))\n",
    "sns.boxplot(churn_df[numeric_df], orient='v', palette='Set2')\n",
    "ax.set_title('Boxplot for numeric_df after removing outliers')\n",
    "ax.set_xlabel('numeric_df')\n",
    "ax.set_ylabel('Value')\n",
    "ax.tick_params(axis='x', rotation=90) # Rotate x-axis labels for better readability\n",
    "plt.show()"
   ]
  },
  {
   "cell_type": "markdown",
   "metadata": {},
   "source": [
    "The cell above shows outliers have been removed successfully\n",
    "\n",
    "For **numeric_df** data is clean and ready for analysis after cleaning"
   ]
  },
  {
   "cell_type": "markdown",
   "metadata": {},
   "source": [
    "In cell below I select all categorical columns in churn_df for cleaning and prepare for analysis.\n",
    "The values are stored under variable `categorical_df`"
   ]
  },
  {
   "cell_type": "code",
   "execution_count": 14,
   "metadata": {},
   "outputs": [
    {
     "data": {
      "text/plain": [
       "['SubscriptionType',\n",
       " 'PaymentMethod',\n",
       " 'PaperlessBilling',\n",
       " 'ContentType',\n",
       " 'MultiDeviceAccess',\n",
       " 'DeviceRegistered',\n",
       " 'GenrePreference',\n",
       " 'Gender',\n",
       " 'ParentalControl',\n",
       " 'SubtitlesEnabled',\n",
       " 'CustomerID']"
      ]
     },
     "execution_count": 14,
     "metadata": {},
     "output_type": "execute_result"
    }
   ],
   "source": [
    "# select categorical columns from the dataset\n",
    "\n",
    "categorical_df =  churn_df.select_dtypes(include=[np.object_]).columns.tolist()\n",
    "categorical_df"
   ]
  },
  {
   "cell_type": "markdown",
   "metadata": {},
   "source": [
    "In cell above  I selects all categorical columns from churn_df and store them under variable `categorical_df`\n",
    "\n",
    "In cell below I check for `values_counts` which shows **unique values** in dataframe "
   ]
  },
  {
   "cell_type": "code",
   "execution_count": 15,
   "metadata": {},
   "outputs": [
    {
     "data": {
      "text/plain": [
       "np.int64(243046)"
      ]
     },
     "execution_count": 15,
     "metadata": {},
     "output_type": "execute_result"
    }
   ],
   "source": [
    "# values_counts for categorical_df\n",
    "\n",
    "churn_df[categorical_df].value_counts().sum()\n",
    "\n"
   ]
  },
  {
   "cell_type": "markdown",
   "metadata": {},
   "source": [
    "The cell above shows that categorical_df might be have some few duplicates as it unique values are 243046 from 243787.\n",
    "\n",
    "In cell below I check for duplicates"
   ]
  },
  {
   "cell_type": "code",
   "execution_count": 16,
   "metadata": {},
   "outputs": [
    {
     "data": {
      "text/plain": [
       "np.int64(0)"
      ]
     },
     "execution_count": 16,
     "metadata": {},
     "output_type": "execute_result"
    }
   ],
   "source": [
    "# check for duplicates in categorical_df\n",
    "\n",
    "churn_df[categorical_df].duplicated().sum() # check for duplicates in categorical_df"
   ]
  },
  {
   "cell_type": "markdown",
   "metadata": {},
   "source": [
    "Cell above shows categorical_df contains no duplicates so maybe the the the value of categorical unique value shows the "
   ]
  },
  {
   "cell_type": "code",
   "execution_count": 17,
   "metadata": {},
   "outputs": [
    {
     "data": {
      "text/plain": [
       "SubscriptionType     0.0\n",
       "PaymentMethod        0.0\n",
       "PaperlessBilling     0.0\n",
       "ContentType          0.0\n",
       "MultiDeviceAccess    0.0\n",
       "DeviceRegistered     0.0\n",
       "GenrePreference      0.0\n",
       "Gender               0.0\n",
       "ParentalControl      0.0\n",
       "SubtitlesEnabled     0.0\n",
       "CustomerID           0.0\n",
       "dtype: float64"
      ]
     },
     "execution_count": 17,
     "metadata": {},
     "output_type": "execute_result"
    }
   ],
   "source": [
    "# check for missing values in categorical_df\n",
    "\n",
    "(churn_df[categorical_df].isna().sum() / len(churn_df[categorical_df]))* 100 # check for missing values in categorical_df in percentage"
   ]
  },
  {
   "cell_type": "markdown",
   "metadata": {},
   "source": [
    "Cell Above shows categorical_df as no duplicates "
   ]
  },
  {
   "cell_type": "code",
   "execution_count": null,
   "metadata": {},
   "outputs": [
    {
     "data": {
      "text/plain": [
       "(243046, 21)"
      ]
     },
     "execution_count": 18,
     "metadata": {},
     "output_type": "execute_result"
    }
   ],
   "source": [
    "churn_df.shape # check shape of the dataset after removing outliers"
   ]
  },
  {
   "cell_type": "markdown",
   "metadata": {},
   "source": [
    "## **EXPLATORARY DATA ANALYSIS(EDA)**\n",
    "\n",
    "#### **Goals** :\n",
    "\n",
    "Find patterns and trends that facilitates churn of customers.\n",
    "\n",
    "To achieve this I derieved the following guiding objectives for entire analysis:\n",
    "\n",
    "**Guiding Questions for Customer Churn Analysis**\n",
    "\n",
    "1. **General Customer Behavior**\n",
    "\n",
    "* What are the common behavior patterns or usage trends among churned customers?\n",
    "* How does customer engagement differ between churned and retained users?\n",
    "e.g., viewing hours per week, content downloads per month, user rating, support tickets.\n",
    "* What factors contribute most to customer churn?\n",
    "\n",
    "2. **Subscription Plan & Engagement**\n",
    "\n",
    "* Which subscription plan has the highest churn rate? (Basic, Premium, Deluxe)\n",
    "* Does the type of content watched influence churn?\n",
    "* Do churned customers have a lower or higher number of downloads per month?\n",
    "* Is watchlist size affected before churn?\n",
    "* Do churned customers have lower account age or engagement duration?\n",
    "\n",
    "3. **Demographics & User Profile**\n",
    "\n",
    "* Are churned customers mostly male or female?\n",
    "* What is the age distribution of churned customers compared to retained ones?\n",
    "* Do they mostly use one type of device (e.g., mobile, tablet, smart TV)?\n",
    "* Are there specific user segments (e.g., genre preference, multi-device access) that are more likely to churn?\n",
    "\n",
    "4. **Billing & Payment Behavior**\n",
    "\n",
    "* Do churned users mostly use a specific payment method?\n",
    "* How do their monthly charges and total charges compare to retained customers?\n",
    "* Are certain payment methods or billing preferences linked to higher churn?\n",
    "* Does a drop in total monthly charges correlate with churn?\n",
    "\n",
    "5. **Parental Controls & User Settings**\n",
    "\n",
    "* Does enabling or disabling parental controls impact churn?\n",
    "* Are customers who enable subtitles more or less likely to churn?\n",
    "* How does having multiple device access affect churn?\n",
    "\n",
    "6. **Time-Based Trends**\n",
    "\n",
    "* How has churn rate changed over time (monthly/yearly)?\n",
    "* Are there seasonal spikes or drops in churn rate?\n",
    "\n",
    "7. **Retention Strategy Insights**\n",
    "\n",
    "* Are there early warning signs (drop in engagement, support tickets) that a customer is about to churn?\n",
    "* What actionable retention strategies can be suggested based on behavior patterns?\n",
    "* How can customer lifetime value (CLV) be maximized using these insights?"
   ]
  },
  {
   "cell_type": "code",
   "execution_count": 19,
   "metadata": {},
   "outputs": [
    {
     "data": {
      "text/plain": [
       "Churn\n",
       "0    198952\n",
       "1     44094\n",
       "Name: count, dtype: int64"
      ]
     },
     "execution_count": 19,
     "metadata": {},
     "output_type": "execute_result"
    }
   ],
   "source": [
    "# differentiating between churners and non-churners\n",
    "churn_df['Churn'].value_counts() # check for churners and non-churners"
   ]
  },
  {
   "cell_type": "markdown",
   "metadata": {},
   "source": [
    "The above cell I check for total number of customers who churned and not. `0 shows those not churned` and `1 shows those hurned`\n",
    "\n"
   ]
  },
  {
   "cell_type": "markdown",
   "metadata": {},
   "source": [
    "Perform correlation for numeric values to identify strongly correlated attribute to churn"
   ]
  },
  {
   "cell_type": "code",
   "execution_count": 20,
   "metadata": {},
   "outputs": [
    {
     "data": {
      "image/png": "[encoded data removed]",
      "text/plain": [
       "<Figure size 1000x800 with 2 Axes>"
      ]
     },
     "metadata": {},
     "output_type": "display_data"
    }
   ],
   "source": [
    "# correlation matrix for numeric_df\n",
    "\n",
    "corr = churn_df[numeric_df].corr()\n",
    "\n",
    "# plot the correlation matrix\n",
    "fig, ax = plt.subplots(figsize=(10, 8))\n",
    "sns.heatmap(corr, annot=True, cmap='coolwarm', fmt='.2f', ax=ax, cbar_kws={'label': 'Correlation Coefficient'})\n",
    "plt.title('Correlation Matrix for Numeric Features')\n",
    "plt.show()\n"
   ]
  },
  {
   "cell_type": "markdown",
   "metadata": {},
   "source": [
    "No single numeric feature alone explains churn well.\n",
    "\n",
    "Churn is likely a multifactorial problem where interaction effects (e.g. low watch time + high monthly cost) matter more than individual variables.\n",
    "\n"
   ]
  },
  {
   "cell_type": "code",
   "execution_count": null,
   "metadata": {},
   "outputs": [],
   "source": []
  },
  {
   "cell_type": "markdown",
   "metadata": {},
   "source": [
    "Cell below **finds which behaviour patterns or usage trends are common among customers who churn\n",
    "\n",
    "I groupby data by `churn` and find the aggregation of attribute such as subscription, payment method etc"
   ]
  },
  {
   "cell_type": "code",
   "execution_count": 29,
   "metadata": {},
   "outputs": [],
   "source": [
    "# finds the  behavior of the churners and non-churners in the dataset\n",
    "\n",
    "# group by churn and calculate the mean attribute values\n",
    "\n",
    "churn_grouped = churn_df.groupby('Churn').agg({\n",
    "    'AccountAge': 'mean',\n",
    "    'TotalCharges': 'mean',\n",
    "    'MonthlyCharges': 'mean',\n",
    "    'SupportTicketsPerMonth': 'mean',\n",
    "    'AverageViewingDuration': 'mean',\n",
    "    'ViewingHoursPerWeek': 'mean',\n",
    "    'ContentDownloadsPerMonth' : 'mean',\n",
    "    \n",
    "}).reset_index()"
   ]
  },
  {
   "cell_type": "code",
   "execution_count": 33,
   "metadata": {},
   "outputs": [
    {
     "data": {
      "image/png": "[encoded data removed]",
      "text/plain": [
       "<Figure size 1200x600 with 1 Axes>"
      ]
     },
     "metadata": {},
     "output_type": "display_data"
    }
   ],
   "source": [
    "# Set 'Churn' column as index before transposing\n",
    "churn_grouped_transposed = churn_grouped.set_index('Churn').T\n",
    "churn_grouped_transposed.reset_index(inplace=True)\n",
    "churn_grouped_transposed.rename(columns={'index': 'Feature'}, inplace=True)\n",
    "\n",
    "\n",
    "# plot the churn_grouped dataframe\n",
    "fig, ax = plt.subplots(figsize=(12, 6))\n",
    "\n",
    "# Melt the data to long format so we can plot with hue\n",
    "df_melted = churn_grouped_transposed.melt(id_vars='Feature', var_name='Churn', value_name='MeanValue')\n",
    "\n",
    "sns.barplot(x='Feature', y='MeanValue', hue='Churn', data=df_melted, palette='Set2')\n",
    "\n",
    "ax.set_title('Comparison of Mean Feature Values by Churn Status')\n",
    "ax.set_xlabel('Feature')\n",
    "ax.set_ylabel('Mean Value')\n",
    "ax.tick_params(axis='x', rotation=90)\n",
    "ax.legend(title='Churn', loc='upper right')\n",
    "plt.show()\n",
    "\n"
   ]
  },
  {
   "cell_type": "markdown",
   "metadata": {},
   "source": [
    "### **Observations** :\n",
    "\n",
    "**Total Charges**:\n",
    "\n",
    "* Customers who did not churn have significantly higher total charges.\n",
    "* This suggests that loyal customers tend to stay longer and hence accumulate more charges over time.\n",
    "\n",
    "**Account Age**:\n",
    "\n",
    "* Non-churners have a higher account age, indicating that customers who have been subscribed longer are less likely to churn.\n",
    "* This reinforces the idea that early churn is more common, and once customers cross a certain tenure, they are likely to stay.\n",
    "\n",
    "**Average Viewing Duration**:\n",
    "\n",
    "* Non-churners show higher average viewing duration than churners.\n",
    "* This implies that more engaged users, who consume more content, are less likely to leave.\n",
    "\n",
    "**Viewing Hours Per Week**:\n",
    "* Similar to the above, churners watch fewer hours per week, showing lower engagement.\n",
    "* Content Downloads Per Month:\n",
    "* Non-churners download more content, indicating they are more active on the platform and find value in it.\n",
    "\n",
    "**Monthly Charges**:\n",
    "\n",
    "* There is little difference in monthly charges between churners and non-churners, suggesting that pricing alone may not be a key churn factor.\n",
    "\n",
    "**Support Tickets Per Month**:\n",
    "\n",
    "* Churners might have a slightly higher support ticket count, though the values are small. This could imply frustration or issues with the service leading to churn.\n",
    "\n",
    "\n"
   ]
  },
  {
   "cell_type": "markdown",
   "metadata": {},
   "source": [
    "Cell below I encode categorical values to find the patterns for non-churners and churners.\n",
    "\n",
    "First I check for multiclass and binary categories using `value_count()`\n"
   ]
  },
  {
   "cell_type": "code",
   "execution_count": 42,
   "metadata": {},
   "outputs": [
    {
     "name": "stdout",
     "output_type": "stream",
     "text": [
      "Value counts for 'SubscriptionType':\n",
      "SubscriptionType\n",
      "Standard    81920\n",
      "Basic       81050\n",
      "Premium     80817\n",
      "Name: count, dtype: int64\n",
      "----------------------------------------\n",
      "Value counts for 'PaymentMethod':\n",
      "PaymentMethod\n",
      "Electronic check    61313\n",
      "Credit card         60924\n",
      "Bank transfer       60797\n",
      "Mailed check        60753\n",
      "Name: count, dtype: int64\n",
      "----------------------------------------\n",
      "Value counts for 'PaperlessBilling':\n",
      "PaperlessBilling\n",
      "No     121980\n",
      "Yes    121807\n",
      "Name: count, dtype: int64\n",
      "----------------------------------------\n",
      "Value counts for 'ContentType':\n",
      "ContentType\n",
      "Both        81737\n",
      "TV Shows    81145\n",
      "Movies      80905\n",
      "Name: count, dtype: int64\n",
      "----------------------------------------\n",
      "Value counts for 'MultiDeviceAccess':\n",
      "MultiDeviceAccess\n",
      "No     122035\n",
      "Yes    121752\n",
      "Name: count, dtype: int64\n",
      "----------------------------------------\n",
      "Value counts for 'DeviceRegistered':\n",
      "DeviceRegistered\n",
      "Computer    61147\n",
      "Tablet      61143\n",
      "Mobile      60914\n",
      "TV          60583\n",
      "Name: count, dtype: int64\n",
      "----------------------------------------\n",
      "Value counts for 'GenrePreference':\n",
      "GenrePreference\n",
      "Comedy     49060\n",
      "Fantasy    48955\n",
      "Drama      48744\n",
      "Action     48690\n",
      "Sci-Fi     48338\n",
      "Name: count, dtype: int64\n",
      "----------------------------------------\n",
      "Value counts for 'Gender':\n",
      "Gender\n",
      "Female    121930\n",
      "Male      121857\n",
      "Name: count, dtype: int64\n",
      "----------------------------------------\n",
      "Value counts for 'ParentalControl':\n",
      "ParentalControl\n",
      "Yes    122085\n",
      "No     121702\n",
      "Name: count, dtype: int64\n",
      "----------------------------------------\n",
      "Value counts for 'SubtitlesEnabled':\n",
      "SubtitlesEnabled\n",
      "Yes    122180\n",
      "No     121607\n",
      "Name: count, dtype: int64\n",
      "----------------------------------------\n"
     ]
    }
   ],
   "source": [
    "# List of categorical columns\n",
    "categorical_cols = [\n",
    "    'SubscriptionType',\n",
    "    'PaymentMethod',\n",
    "    'PaperlessBilling',\n",
    "    'ContentType',\n",
    "    'MultiDeviceAccess',\n",
    "    'DeviceRegistered',\n",
    "    'GenrePreference',\n",
    "    'Gender',\n",
    "    'ParentalControl',\n",
    "    'SubtitlesEnabled'\n",
    "]\n",
    "\n",
    "# Loop through and display value counts for each\n",
    "for col in categorical_cols:\n",
    "    print(f\"Value counts for '{col}':\")\n",
    "    print(churn_df[col].value_counts(dropna=False))\n",
    "    print(\"-\" * 40)\n"
   ]
  },
  {
   "cell_type": "code",
   "execution_count": 43,
   "metadata": {},
   "outputs": [
    {
     "data": {
      "text/plain": [
       "ContentType\n",
       "Both        81737\n",
       "TV Shows    81145\n",
       "Movies      80905\n",
       "Name: count, dtype: int64"
      ]
     },
     "execution_count": 43,
     "metadata": {},
     "output_type": "execute_result"
    }
   ],
   "source": [
    "churn_df[categorical_df]['ContentType'].value_counts()"
   ]
  },
  {
   "cell_type": "code",
   "execution_count": 54,
   "metadata": {},
   "outputs": [],
   "source": [
    "# create a copy of the churn_df for encoding\n",
    "churn_encoded = churn_df.copy()\n",
    "\n",
    "# encode ('Basic': 0, 'Standard': 1, 'Premium': 2)\n",
    "churn_encoded['SubscriptionType'] = churn_encoded['SubscriptionType'].map({'Basic': 0, 'Standard': 1, 'Premium': 2})\n",
    "\n",
    "# ('movies' : 0, 'TV shows' : 1, 'Both' : 2)\n",
    "churn_encoded['ContentType'] = churn_encoded['ContentType'].map({'movies' : 0, 'TV shows' : 1, 'Both' : 2})\n",
    "# ('No' : 0, 'Yes' : 1)\n",
    "churn_encoded['PaperlessBilling'] = churn_encoded['PaperlessBilling'].map({'No': 0, 'Yes': 1})\n",
    "churn_encoded['MultiDeviceAccess'] = churn_encoded['MultiDeviceAccess'].map({'No': 0, 'Yes': 1})\n",
    "churn_encoded['DeviceRegistered'] = churn_encoded['DeviceRegistered'].map({'No': 0, 'Yes': 1})\n",
    "churn_encoded['ParentalControl'] = churn_encoded['ParentalControl'].map({'No': 0, 'Yes': 1})\n",
    "churn_encoded['SubtitlesEnabled'] = churn_encoded['SubtitlesEnabled'].map({'No': 0, 'Yes': 1})\n",
    "# (comedy':0, 'Fantasy':1, 'Drama' : 2, 'Action' : 3, 'Sci-Fi' :4)\n",
    "churn_encoded['GenrePreference'] = churn_encoded['GenrePreference'].map({'comedy':0, 'Fantasy':1, 'Drama' : 2, 'Action' : 3, 'Sci-Fi' :4})\n",
    "churn_encoded['SubtitlesEnabled'] = churn_encoded['SubtitlesEnabled'].map({'No': 0, 'Yes': 1})\n",
    "churn_encoded['Gender']= churn_encoded['Gender'].map({'Female' :0, 'Male' :1})\n",
    "# ('Credit card' :0, 'Bank transfer' :1, 'Electronic check' :2, 'Mailed check' :3)\n",
    "churn_encoded['PaymentMethod'] = churn_encoded['PaymentMethod'].map({'Credit card' :0, 'Bank transfer' :1, 'Electronic check' :2, 'Mailed check' :3})\n"
   ]
  },
  {
   "cell_type": "code",
   "execution_count": 50,
   "metadata": {},
   "outputs": [
    {
     "data": {
      "text/plain": [
       "(243787, 21)"
      ]
     },
     "execution_count": 50,
     "metadata": {},
     "output_type": "execute_result"
    }
   ],
   "source": [
    "# check the shape of the churn_encoded dataframe\n",
    "churn_encoded.shape"
   ]
  },
  {
   "cell_type": "code",
   "execution_count": 55,
   "metadata": {},
   "outputs": [],
   "source": [
    "# Group by 'Churn' and calculate the sum of each categorical feature\n",
    "cat_grouped = churn_encoded.groupby('Churn').agg({\n",
    "    'GenrePreference': 'sum',\n",
    "    'SubscriptionType': 'sum',\n",
    "    'PaymentMethod': 'sum',\n",
    "    'PaperlessBilling': 'sum',\n",
    "    'ContentType': 'sum',\n",
    "    'MultiDeviceAccess': 'sum',\n",
    "    'DeviceRegistered': 'sum',\n",
    "    'ParentalControl': 'sum',\n",
    "\n",
    "}).reset_index()"
   ]
  },
  {
   "cell_type": "code",
   "execution_count": 56,
   "metadata": {},
   "outputs": [
    {
     "data": {
      "image/png": "[encoded data removed]",
      "text/plain": [
       "<Figure size 1200x600 with 1 Axes>"
      ]
     },
     "metadata": {},
     "output_type": "display_data"
    }
   ],
   "source": [
    "# plot the cat_grouped dataframe\n",
    "fig, ax = plt.subplots(figsize=(12, 6))\n",
    "# Melt the data to long format so we can plot with hue\n",
    "df_melted = cat_grouped.melt(id_vars='Churn', var_name='Feature', value_name='SumValue')\n",
    "sns.barplot(x='Feature', y='SumValue', hue='Churn', data=df_melted, palette='Set2')\n",
    "ax.set_title('Comparison of Sum Feature Values by Churn Status')\n",
    "ax.set_xlabel('Feature')\n",
    "ax.set_ylabel('Sum Value')\n",
    "ax.tick_params(axis='x', rotation=90)\n",
    "ax.legend(title='Churn', loc='upper right')\n",
    "plt.show()"
   ]
  },
  {
   "cell_type": "markdown",
   "metadata": {},
   "source": [
    "Need to undestand more"
   ]
  },
  {
   "cell_type": "code",
   "execution_count": 62,
   "metadata": {},
   "outputs": [
    {
     "data": {
      "image/png": "[encoded data removed]",
      "text/plain": [
       "<Figure size 1200x600 with 1 Axes>"
      ]
     },
     "metadata": {},
     "output_type": "display_data"
    }
   ],
   "source": [
    "\n",
    "\n",
    "# Create a normalized frequency table of churn by genre\n",
    "genre_churn = churn_df.groupby(['GenrePreference', 'Churn']).size().reset_index(name='Count')\n",
    "\n",
    "# Normalize to get percentages within each genre\n",
    "genre_churn['Percent'] = genre_churn.groupby('GenrePreference')['Count'].transform(lambda x: x / x.sum() * 100)\n",
    "\n",
    "# Plot\n",
    "plt.figure(figsize=(12, 6))\n",
    "sns.barplot(x='GenrePreference', y='Percent', hue='Churn', data=genre_churn, palette='coolwarm')\n",
    "\n",
    "plt.title('Churn Rate by Genre Preference')\n",
    "plt.xlabel('Genre Preference')\n",
    "plt.ylabel('Percentage')\n",
    "plt.xticks(rotation=45)\n",
    "plt.legend(title='Churn (0 = No, 1 = Yes)')\n",
    "plt.tight_layout()\n",
    "plt.show()\n"
   ]
  },
  {
   "cell_type": "code",
   "execution_count": null,
   "metadata": {},
   "outputs": [],
   "source": []
  }
 ],
 "metadata": {
  "kernelspec": {
   "display_name": "venv",
   "language": "python",
   "name": "python3"
  },
  "language_info": {
   "codemirror_mode": {
    "name": "ipython",
    "version": 3
   },
   "file_extension": ".py",
   "mimetype": "text/x-python",
   "name": "python",
   "nbconvert_exporter": "python",
   "pygments_lexer": "ipython3",
   "version": "3.11.9"
  }
 },
 "nbformat": 4,
 "nbformat_minor": 2
}
